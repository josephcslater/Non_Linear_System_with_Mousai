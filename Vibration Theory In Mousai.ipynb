{
 "cells": [
  {
   "cell_type": "code",
   "execution_count": 1,
   "metadata": {
    "collapsed": true
   },
   "outputs": [],
   "source": [
    "%matplotlib inline\n",
    "%load_ext autoreload\n",
    "%autoreload 2\n",
    "import scipy as sp\n",
    "import numpy as np\n",
    "import matplotlib.pyplot as plt\n",
    "import matplotlib\n",
    "import mousai as ms\n",
    "matplotlib.rcParams['figure.figsize']=(11,5)"
   ]
  },
  {
   "cell_type": "code",
   "execution_count": 2,
   "metadata": {
    "collapsed": true
   },
   "outputs": [],
   "source": [
    "def vib_thry(x,params):\n",
    "    t = params['cur_time']\n",
    "    nu1 = params['nu1']\n",
    "    nu2 = params['nu2']\n",
    "    k = params['k']\n",
    "    alpha1 = params['alpha1']\n",
    "    alpha3 = params['alpha3']\n",
    "    xd = np.array([[x[1]],\n",
    "                   [-x[0]-nu1*x[0]**3-k*(x[0]-x[2])-nu2*(x[0]-x[2])**3],\n",
    "                   [x[3]],\n",
    "                   [-(1-alpha1)*x[2]-nu1*(1+alpha3)*x[2]**3\n",
    "                    -k*(x[2]-x[0])-nu2*(x[2]-x[0])**3]])\n",
    "    return xd\n",
    "#x[1]=x1dd, x[0]=x1, x[2]=x2, x[3]=x2dd\n",
    "#Equations that are being used\n",
    "#x1dd+x1+nu1*x1^3+k(x1-x2)+nu2(x1-x2)^2=0\n",
    "#x2dd+(1+alpha1)x2+nu1(1+alpha3)x2^3+k(x2-x1)+nu2(x2-x1)^3=0"
   ]
  },
  {
   "cell_type": "code",
   "execution_count": 53,
   "metadata": {
    "scrolled": true
   },
   "outputs": [
    {
     "data": {
      "text/plain": [
       "array([ 0.00600432,  0.00600432,  0.0044674 ,  0.0044674 ])"
      ]
     },
     "execution_count": 53,
     "metadata": {},
     "output_type": "execute_result"
    }
   ],
   "source": [
    "#Initial Conditions-> x1(0)=X1, x1d(0)=0, x2(0)=X2, x2d(0)=0\n",
    "a = np.array([[1],[0],[1],[0]])\n",
    "#Running Mousai\n",
    "t,x,e,amps,phases = ms.hb_time(vib_thry,x0=a, num_harmonics=2, num_variables=4, eqform='first_order', params={'nu1':1,'nu2':0.05,'k':0.05,'alpha1':1,'alpha3':1})\n",
    "#ms.hb_time(vib_thry=function to be called, x0=initial conditions array,num_harmonics>=2, \n",
    "            #num_variables= number of variables that are in xd that are not parameters, eqform= since xd is in\n",
    "            #state space form this will be solved as a first order equation, params= the dictionary of parameters\n",
    "            #for all of the constant variables)\n",
    "amps\n"
   ]
  },
  {
   "cell_type": "code",
   "execution_count": 55,
   "metadata": {},
   "outputs": [
    {
     "data": {
      "image/png": "[encoded data removed]",
      "text/plain": [
       "<matplotlib.figure.Figure at 0x171cd92748>"
      ]
     },
     "metadata": {},
     "output_type": "display_data"
    }
   ],
   "source": [
    "plt.plot(t[0:4],amps)\n",
    "plt.title('Amplitude versus Time')\n",
    "plt.ylabel('Amplitude')\n",
    "plt.xlabel('time')\n",
    "plt.grid()"
   ]
  },
  {
   "cell_type": "code",
   "execution_count": null,
   "metadata": {
    "collapsed": true
   },
   "outputs": [],
   "source": []
  }
 ],
 "metadata": {
  "kernelspec": {
   "display_name": "Python 3",
   "language": "python",
   "name": "python3"
  },
  "language_info": {
   "codemirror_mode": {
    "name": "ipython",
    "version": 3
   },
   "file_extension": ".py",
   "mimetype": "text/x-python",
   "name": "python",
   "nbconvert_exporter": "python",
   "pygments_lexer": "ipython3",
   "version": "3.6.3"
  }
 },
 "nbformat": 4,
 "nbformat_minor": 2
}
