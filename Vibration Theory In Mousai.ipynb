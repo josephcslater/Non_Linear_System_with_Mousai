{
 "cells": [
  {
   "cell_type": "code",
   "execution_count": 1,
   "metadata": {
    "collapsed": true
   },
   "outputs": [],
   "source": [
    "%matplotlib inline\n",
    "%load_ext autoreload\n",
    "%autoreload 2\n",
    "import scipy as sp\n",
    "import numpy as np\n",
    "import matplotlib.pyplot as plt\n",
    "import matplotlib\n",
    "import mousai as ms\n",
    "matplotlib.rcParams['figure.figsize']=(11,5)"
   ]
  },
  {
   "cell_type": "code",
   "execution_count": null,
   "metadata": {
    "collapsed": true
   },
   "outputs": [],
   "source": [
    "def vib_thry(x,params)\n",
    "    t = params['cur_time']\n",
    "    nu1 = params['nu1']\n",
    "    nu2 = params['nu2']\n",
    "    k = params['k']\n",
    "    alpha1 = params['alpha1']\n",
    "    alpha3 = params['alpha3']\n",
    "    xd = np.array([[x[1]]],\n",
    "                     [-x[0]-nu1*x[0]**3-k8(x[0]-x[2])-nu2*(x[0]-x[2])**3],\n",
    "                    [x[3]],\n",
    "                   [-(1_alpha1)*x[2]-nu1*(1+alpha3)*x[2]**3-k*(x[2]-x[0])-nu2*(x[2]-x[0])**3])\n",
    "    return xd"
   ]
  },
  {
   "cell_type": "code",
   "execution_count": null,
   "metadata": {
    "collapsed": true
   },
   "outputs": [],
   "source": [
    "parameters['nu1'] = 1    \"This is the grounding stiffness parameter\"\n",
    "parameters['nu2'] = 0.05 \"This is a coupling parameter that is much smaller than 1\"\n",
    "parameters['k'] = 0.05   \"This is another coupling parameter that is much smaller than 1\"\n",
    "parameters['alpha1'] = 1 \"This is the first of the mistuning parameters\"\n",
    "parameters['alpha3'] = 1 \"This is the second of the mistuning parameters\""
   ]
  },
  {
   "cell_type": "code",
   "execution_count": null,
   "metadata": {
    "collapsed": true
   },
   "outputs": [],
   "source": [
    "t,x,e,amps,phases = ms.hb_time(vib_thry, omega=1.2, num_variables=4, eqform='first_order', params=parameters)\n",
    "\"ms.hb_time(vib_thry=function to be called, omega=assumed fundamental response frequency in radians per second, \n",
    "            \"num_variables= number of variables that are in xd that are not parameters, eqform= since xd is in\n",
    "            \"state space form this will be solved as a first order equation, params= the dictionary of parameters\n",
    "            \"for all of the constant variables)\"\n",
    "x"
   ]
  }
 ],
 "metadata": {
  "kernelspec": {
   "display_name": "Python 3",
   "language": "python",
   "name": "python3"
  },
  "language_info": {
   "codemirror_mode": {
    "name": "ipython",
    "version": 3
   },
   "file_extension": ".py",
   "mimetype": "text/x-python",
   "name": "python",
   "nbconvert_exporter": "python",
   "pygments_lexer": "ipython3",
   "version": "3.6.3"
  }
 },
 "nbformat": 4,
 "nbformat_minor": 2
}
