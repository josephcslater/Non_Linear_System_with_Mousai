{
 "cells": [
  {
   "cell_type": "markdown",
   "metadata": {},
   "source": [
    "# Non-Linear System of Equations Solved with Mousai\n",
    "#### By Austin McDonnell"
   ]
  },
  {
   "cell_type": "markdown",
   "metadata": {},
   "source": [
    "## Importing Necessary Packages\n",
    "\n",
    "The first of these packages that are needed to solve this project is matplotlib. The matplotlib package provides a plotting framework that is very similar to that of MATLAB; were pylab combines pyplot and numpy into one package. Importing matplotlib.pyplot is where various states are preserved across function calls, so that it keeps track of things like the current figure and plotting area. The first three lines of the importing packages section is what is considered magic commands. The first sets up IPython to work correctly with matplotlib and including inline makes it so the output plot is displayed inline with the code, basically the plot will be directly after the code that produces it and will be saved to the notebook. The next two lines makes it so that IPython reloads the modules before executing the user code; using autoreload 2 makes it that the modules reload everytime before executing the code. The last line of this section makes sure that the figure is set up to the parameters given. The next package that is imported is the numpy package; which provides fast and efficient operations on arrays of homogeneous data, extends Python into a high-level language for manipulating numerical data. The second to last package that is imported is the vibration toolbox; which was originally written for Matlab and now transfered to Python. This is an educational package that demonstrates vibrations concepts; used in this project to solve for the omega parameter in mousai, discussed later, and the initial conditions for the system. The last of these packages that was imported, mousai, is the reason to do this project. Mousai is a harmonic balance code to solve a wide array of problems that are presented as non-linear ordinary differential equations(ODEs) and there solutions can be represented by Fourier Series."
   ]
  },
  {
   "cell_type": "code",
   "execution_count": 1,
   "metadata": {},
   "outputs": [],
   "source": [
    "%matplotlib inline\n",
    "%load_ext autoreload\n",
    "%autoreload 2\n",
    "import numpy as np\n",
    "import matplotlib.pyplot as plt\n",
    "import matplotlib\n",
    "import vibration_toolbox as vtb\n",
    "import mousai as ms\n",
    "import scipy as sp\n",
    "from scipy import sin\n",
    "matplotlib.rcParams['figure.figsize']=(11,5)"
   ]
  },
  {
   "cell_type": "markdown",
   "metadata": {},
   "source": [
    "## Vibration Toolbox\n",
    "The vibration toolbox package is used to solve for the initial conditions and omega parameter to be used in the mousai function later. To take this \"guess\" at these two values the system of equations, shown below, being used in this project is altered from being non-linear to linear and then put into its matrix form. \n",
    "\\begin{equation}\\ddot{x_1}+x_1+\\nu_1x_1^3+k(x_1-x_2)+\\nu_2(x_1-x_2)^3=0\\end{equation}\n",
    "\\begin{equation}\\ddot{x_2}+(1+\\alpha_1)x_2+\\nu_1(1+\\alpha_3)x_2^3+k(x_2-x_1)+\\nu_2(x_2-x_1)^3=0\\end{equation}\n",
    "The non-linear terms in the system above are the nu1 and nu2 terms; so to make this a linear system those terms are taken out. Next is to put the now linear system of equations into matrix form, then define the variables that are left over; so it can be used by the vibration toolbox package. The M matrix is the coefficient matrix to the second order derivatives, K is the coefficient matrix of the displacement terms, and C is a zero matrix, needed for this project. By using vtb.VibeSystem creates a multiple degree of freedom system using the matrices described above. After this the function sys.evectors outputs the systems's eigenvectors. Next is the vibration toolbox function that will solve for our \"guess\" at the omega value and initial condition; vtb.modes_system_undamped. This built in function uses the inputs of the matrix M and K and returns the natural frequency, our omega value; eigenvectors; mode shapes, our initial conditions; and the modal transformation matrix of the mode shapes for an undamped system."
   ]
  },
  {
   "cell_type": "code",
   "execution_count": 2,
   "metadata": {},
   "outputs": [],
   "source": [
    "k = 0.05\n",
    "alpha1 = 1\n",
    "nu, beta = 0, 0"
   ]
  },
  {
   "cell_type": "code",
   "execution_count": 3,
   "metadata": {},
   "outputs": [],
   "source": [
    "M = np.array([[1.0,0],\n",
    "             [0,1.0]])\n",
    "K = np.array([[1+k,-k],\n",
    "             [-k,1+alpha1+k]])"
   ]
  },
  {
   "cell_type": "code",
   "execution_count": 4,
   "metadata": {},
   "outputs": [
    {
     "data": {
      "text/plain": [
       "array([[-0.99875853,  0.0498137 ],\n",
       "       [-0.0498137 , -0.99875853]])"
      ]
     },
     "execution_count": 4,
     "metadata": {},
     "output_type": "execute_result"
    }
   ],
   "source": [
    "w, P, S, Sinv = vtb.modes_system_undamped(M,K)\n",
    "S"
   ]
  },
  {
   "cell_type": "markdown",
   "metadata": {},
   "source": [
    "## Omega and Initial Conditions\n",
    "The next four cells are the omega and initial conditions values that were used in the testing. Each pair of initial conditions was tested with the two different omega values. The three different initial condition pairs are the transpose of the original output of the mode shape matrix, then the mode shape matrix divided by ten, and last is then times the mode shape."
   ]
  },
  {
   "cell_type": "code",
   "execution_count": 5,
   "metadata": {},
   "outputs": [
    {
     "data": {
      "text/plain": [
       "array([1.02347751, 1.43265271])"
      ]
     },
     "execution_count": 5,
     "metadata": {},
     "output_type": "execute_result"
    }
   ],
   "source": [
    "#Omega\n",
    "w"
   ]
  },
  {
   "cell_type": "code",
   "execution_count": 6,
   "metadata": {},
   "outputs": [
    {
     "data": {
      "text/plain": [
       "array([-0.99875853, -0.0498137 ])"
      ]
     },
     "execution_count": 6,
     "metadata": {},
     "output_type": "execute_result"
    }
   ],
   "source": [
    "#Inital Conditions Trial 1: original\n",
    "x0 = S[:,0].T\n",
    "x0"
   ]
  },
  {
   "cell_type": "code",
   "execution_count": 7,
   "metadata": {},
   "outputs": [
    {
     "data": {
      "text/plain": [
       "array([-0.09987585, -0.00498137])"
      ]
     },
     "execution_count": 7,
     "metadata": {},
     "output_type": "execute_result"
    }
   ],
   "source": [
    "#Initial Conditions Trial 2: orginal divided by 10\n",
    "x0 = x0/10\n",
    "x0"
   ]
  },
  {
   "cell_type": "code",
   "execution_count": 8,
   "metadata": {},
   "outputs": [
    {
     "data": {
      "text/plain": [
       "array([-9.98758527, -0.49813702])"
      ]
     },
     "execution_count": 8,
     "metadata": {},
     "output_type": "execute_result"
    }
   ],
   "source": [
    "#Initial Conditions Trial 3: 10 times original\n",
    "x0 = x0*100\n",
    "x0"
   ]
  },
  {
   "cell_type": "markdown",
   "metadata": {},
   "source": [
    "## Creating the Function (nls_ms)\n",
    "In order to use the imported package mousai to solve the system of equations a function must be defined; for this project the function is nls_ms. In this function the parameters will be defined and the two second order differential variables are solved for. In the first line of this newly defined function there must be three variables put into the parenthesis; x, for displacement vector; v, for velocity vector; and params, which is the parameters to be defined for the system of equations. The first of these parameters is t, this is a necessary parameter because the derivatives to be solved are time derivatives. If the t parameter is left out the Mousai function hb_freq will be unable to solve the problem completely. The next five parameters are all variables that are a part of the system of equations being solved for. These parameters must be defined in the function set up so that they exist before the second order variables are solved for; they are later defined in the hb_freq function. The system of equations, shown below in the image, that is used is taken from the paper Non-Linear Normal Modes(NNMs) and Their Applications in Vibration Theory: An Overview by A.F. Vakakis. \n",
    "\\begin{equation}\\ddot{x_1}+x_1+\\nu_1x_1^3+k(x_1-x_2)+\\nu_2(x_1-x_2)^3=0\\end{equation}\n",
    "\\begin{equation}\\ddot{x_2}+(1+\\alpha_1)x_2+\\nu_1(1+\\alpha_3)x_2^3+k(x_2-x_1)+\\nu_2(x_2-x_1)^3=0\\end{equation}\n",
    "NNMs can be used as a valuable tool for understanding some essentially non-linear dynamic phenomena, that don't really have a linear counterpart to analyze it. Applications of NNMs to modal analysis model reduction, vibration and shock isolation design and the theory of non-linear oscillators. NNMs are non-similar and difficult to compute; which is why mousai will be very useful for computing this system of equations. This particular system of equations is a non-similar NNM with non-symmetric grounding stiffness. The first of the parameters are nu1 and nu2 are non-linear stiffness terms, nu1 is the grounding stiffness and nu2 is the coupling stiffness. The next of these parameters is k a coupling coefficient. The last two parameters, alpha1 and alpha3 are mistuning parameters that will adjust the asymmetry of the system. For this particular problem it will be assumed that there is weak coupling; which means that the parameters nu2 and k are going to be much smaller than 1. For mousai to more easily interpret the system of equations as a second order system the second order terms are solved for and put into the xd array."
   ]
  },
  {
   "cell_type": "code",
   "execution_count": 9,
   "metadata": {},
   "outputs": [],
   "source": [
    "def nls_ms(x,v,params):\n",
    "    t = params['cur_time']\n",
    "    nu1 = params['nu1']\n",
    "    nu2 = params['nu2']\n",
    "    k = params['k']\n",
    "    alpha1 = params['alpha1']\n",
    "    alpha3 = params['alpha3']\n",
    "    omega = params['omega']\n",
    "    xd = np.array([[sin(omega*t)-x[0]-nu1*x[0]**3-k*(x[0]-x[1])-nu2*(x[0]-x[1])**3],\n",
    "                   [sin(omega*t)-(1+alpha1)*x[1]-nu1*(1+alpha3)*x[1]**3\n",
    "                    -k*(x[1]-x[0])-nu2*(x[1]-x[0])**3]])\n",
    "    return xd"
   ]
  },
  {
   "cell_type": "markdown",
   "metadata": {},
   "source": [
    "## Using Mousai\n",
    "Mousai, written by Dr. Joseph Slater, was written in order to implement harmonic balance into a wide array of problems that are represented by non-linear ordinary differential equations. To solve the system defined earlier the built in function in Mousai hb_freq is used; which is occupied with the necessary information. Hb_freq obtains the solution of either a first or second order differential equation using the presumption that the solution is harmonic using an algebraic time method. The results that are output are time, displacement, velocity, and acceleration. The first of the necessary parameters that are put into hb_freq, for this particular project, is the function name, in this case nls_ms. The second input parameter is an array, x0, which is being used as an initial condition array to jump start the solution. Next is the omega value, solved for in the vibration toolbox, which is the assumed fundamental response frequency in radians per second. Next is defining the number of harmonics that are presumed, this number is based off the number columns in the x0 array. The fourth input parameter is the number of variables that are in the equation that is being solved, in this case there are two variables in the system of equation being solved. The next input parameter is eqform, which asks how the equation is formed, either first or second order; for this project it is second order. The last of the input parameters is dictionary of parameters that are being put into the system to be solved. The next built in Mousai function that is used in this project to plot the output from hb_freq, is time_history. This function generates a refined time history from the harmonic balance solution; this function fills in the gaps using the harmonics obtained in the solution. This function's input parameters are the outputs from hb_freq, t (time) and x (displacement), and it outputs an array of time that fills the gap between the answers and a displacement array that again fills in the gaps between the previously solved for answers. When looking at the set-up of the plot that shows the displacement and velocity the first two inputs are the new found time and displacement solved for by time_history and the second two inputs are the time and displacement solved for by hb_freq. Using both of these solutions allows for a graph to show a smooth and continuous plot of the responses."
   ]
  },
  {
   "cell_type": "code",
   "execution_count": 10,
   "metadata": {},
   "outputs": [
    {
     "name": "stdout",
     "output_type": "stream",
     "text": [
      "Excepted- search failed for omega = 1.4327 rad/s.\n"
     ]
    },
    {
     "data": {
      "text/plain": [
       "array([nan, nan])"
      ]
     },
     "execution_count": 10,
     "metadata": {},
     "output_type": "execute_result"
    }
   ],
   "source": [
    "a = np.array([[-0.99875853],[-0.0498137]])\n",
    "#Attempted to run at omega=1.02347751 but run failed\n",
    "t,x,e,amps,phases = ms.hb_freq(nls_ms,x0=a, omega = 1.43265271, num_harmonics=1, num_variables=2, eqform='second_order', params={'nu1':0.05,'nu2':0.025,'k':0.05,'alpha1':1,'alpha3':1})\n",
    "\n",
    "amps"
   ]
  },
  {
   "cell_type": "code",
   "execution_count": 11,
   "metadata": {},
   "outputs": [
    {
     "data": {
      "image/png": "[encoded data removed]",
      "text/plain": [
       "<matplotlib.figure.Figure at 0x1c144cb5f8>"
      ]
     },
     "metadata": {},
     "output_type": "display_data"
    }
   ],
   "source": [
    "time, xc = ms.time_history(t,x)\n",
    "disp_plot,_=plt.plot(time,xc.T[:,0],t,x.T[:,0],'*b', label='Displacement')\n",
    "vel_plot,_=plt.plot(time, xc.T[:,1], 'r',t, x.T[:,1], '*r', label='Velocity')\n",
    "plt.legend(handles=[disp_plot,vel_plot])\n",
    "plt.xlabel('Time(sec)')\n",
    "plt.ylabel('Response')\n",
    "plt.title('Response of System')\n",
    "plt.legend\n",
    "plt.grid(True)"
   ]
  },
  {
   "cell_type": "code",
   "execution_count": 38,
   "metadata": {},
   "outputs": [],
   "source": [
    "nu1 = 0.00000005\n",
    "nu2 = 0.00000005"
   ]
  },
  {
   "cell_type": "code",
   "execution_count": 39,
   "metadata": {},
   "outputs": [
    {
     "data": {
      "text/plain": [
       "Text(0.5,1,'Omega vs. Amp')"
      ]
     },
     "execution_count": 39,
     "metadata": {},
     "output_type": "execute_result"
    },
    {
     "data": {
      "image/png": "[encoded data removed]",
      "text/plain": [
       "<matplotlib.figure.Figure at 0x1c1f24ccf8>"
      ]
     },
     "metadata": {},
     "output_type": "display_data"
    }
   ],
   "source": [
    "omega = np.arange(0, 3, 1 / 200) + 1 / 200\n",
    "amp = sp.zeros_like(omega)\n",
    "amp[:] = np.nan\n",
    "t, x, e, amps, phases = ms.hb_time(nls_ms, num_variables=2,\n",
    "                                 omega=1 , eqform='second_order', num_harmonics=1,params={'nu1':nu1,'nu2':nu2,'k':0.05,'alpha1':1,'alpha3':1})\n",
    "for i, freq in enumerate(omega):\n",
    "    # Here we try to obtain solutions, but if they don't work,\n",
    "    # we ignore them by inserting `np.nan` values.\n",
    "    x = x - sp.average(x)\n",
    "    try:\n",
    "        t, x, e, amps, phases = ms.hb_time(nls_ms, x0=x,\n",
    "                 omega=freq, eqform='second_order', num_harmonics=1,params={'nu1':nu1,'nu2':nu2,'k':0.05,'alpha1':1,'alpha3':1})\n",
    "        amp[i] = amps[0]\n",
    "    except:\n",
    "        amp[i] = np.nan\n",
    "    if np.isnan(amp[i]):\n",
    "        break\n",
    "plt.plot(omega, amp)\n",
    "plt.xlabel('Amp')\n",
    "plt.ylabel('Omega')\n",
    "plt.title('Omega vs. Amp')"
   ]
  },
  {
   "cell_type": "code",
   "execution_count": 40,
   "metadata": {},
   "outputs": [],
   "source": [
    "omegal = np.arange(3, .03, -1 / 200) + 1 / 200\n",
    "ampl = sp.zeros_like(omegal)\n",
    "ampl[:] = np.nan\n",
    "\n",
    "t, x, e, amps, phases = ms.hb_time(nls_ms, num_variables=2,\n",
    "                                 omega=1.43265271, eqform='second_order', num_harmonics=1, params={'nu1':nu1,'nu2':nu2,'k':0.05,'alpha1':1,'alpha3':1})\n",
    "for i, freq in enumerate(omegal):\n",
    "    # Here we try to obtain solutions, but if they don't work,\n",
    "    # we ignore them by inserting `np.nan` values.\n",
    "    x = x - np.average(x)\n",
    "    try:\n",
    "        t, x, e, amps, phases = ms.hb_time(nls_ms, x0=x,\n",
    "                 omega=freq, eqform='second_order', num_harmonics=1, params={'nu1':nu2,'nu2':nu2,'k':0.05,'alpha1':1,'alpha3':1})\n",
    "        ampl[i] = amps[0]\n",
    "    except:\n",
    "        ampl[i] = np.nan\n",
    "    if np.isnan(ampl[i]):\n",
    "        break"
   ]
  },
  {
   "cell_type": "code",
   "execution_count": 41,
   "metadata": {},
   "outputs": [
    {
     "data": {
      "image/png": "[encoded data removed]",
      "text/plain": [
       "<matplotlib.figure.Figure at 0x1c1f24c278>"
      ]
     },
     "metadata": {},
     "output_type": "display_data"
    }
   ],
   "source": [
    "plt.plot(omega,amp, label='Up sweep')\n",
    "plt.plot(omegal,ampl, label='Down sweep')\n",
    "plt.legend()\n",
    "plt.title('Amplitude versus frequency for Duffing Oscillator')\n",
    "plt.xlabel('Driving frequency $\\\\omega$')\n",
    "plt.ylabel('Amplitude')\n",
    "plt.grid()"
   ]
  },
  {
   "cell_type": "code",
   "execution_count": 15,
   "metadata": {
    "scrolled": false
   },
   "outputs": [
    {
     "data": {
      "text/plain": [
       "[<matplotlib.lines.Line2D at 0x1c1dac6898>]"
      ]
     },
     "execution_count": 15,
     "metadata": {},
     "output_type": "execute_result"
    },
    {
     "data": {
      "image/png": "[encoded data removed]",
      "text/plain": [
       "<matplotlib.figure.Figure at 0x1c1ded5eb8>"
      ]
     },
     "metadata": {},
     "output_type": "display_data"
    }
   ],
   "source": [
    "omega = sp.linspace(0.1,3,200)+1/200\n",
    "amp = sp.zeros_like(omega)\n",
    "t, x, e, amps, phases = ms.hb_time(nls_ms, num_variables=2,\n",
    "                                 omega=1 , eqform='second_order', num_harmonics=1,params={'nu1':0.05,'nu2':0.025,'k':0.05,'alpha1':1,'alpha3':1})\n",
    "\n",
    "for i, freq in enumerate(omega):\n",
    "    #print(i,freq,x)\n",
    "    try:\n",
    "        t, x, e, amps, phases = ms.hb_freq(nls_ms, x, freq, params={'nu1':0.05,'nu2':0.025,'k':0.05,'alpha1':1,'alpha3':1})\n",
    "        amp[i]=amps[0]\n",
    "    except:\n",
    "       amp[i] = sp.nan    \n",
    "plt.plot(omega, amp)\n",
    "#print(amp)"
   ]
  },
  {
   "cell_type": "code",
   "execution_count": null,
   "metadata": {
    "collapsed": true
   },
   "outputs": [],
   "source": []
  }
 ],
 "metadata": {
  "kernelspec": {
   "display_name": "Python 3",
   "language": "python",
   "name": "python3"
  },
  "language_info": {
   "codemirror_mode": {
    "name": "ipython",
    "version": 3
   },
   "file_extension": ".py",
   "mimetype": "text/x-python",
   "name": "python",
   "nbconvert_exporter": "python",
   "pygments_lexer": "ipython3",
   "version": "3.6.4"
  }
 },
 "nbformat": 4,
 "nbformat_minor": 2
}
